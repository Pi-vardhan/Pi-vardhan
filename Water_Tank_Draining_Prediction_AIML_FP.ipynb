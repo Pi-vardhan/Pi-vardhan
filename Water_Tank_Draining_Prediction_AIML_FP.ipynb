{
  "cells": [
    {
      "cell_type": "markdown",
      "metadata": {
        "id": "view-in-github",
        "colab_type": "text"
      },
      "source": [
        "<a href=\"https://colab.research.google.com/github/Pi-vardhan/Pi-vardhan/blob/Project/Water_Tank_Draining_Prediction_AIML_FP.ipynb\" target=\"_parent\"><img src=\"https://colab.research.google.com/assets/colab-badge.svg\" alt=\"Open In Colab\"/></a>"
      ]
    },
    {
      "cell_type": "markdown",
      "metadata": {
        "id": "zoonGn6GpM3g"
      },
      "source": [
        "**Mounting Drive**"
      ]
    },
    {
      "cell_type": "code",
      "execution_count": 253,
      "metadata": {
        "id": "RdWM-G3ypLMX",
        "colab": {
          "base_uri": "https://localhost:8080/"
        },
        "outputId": "07641084-e11c-4402-b0bc-dd85386c7608"
      },
      "outputs": [
        {
          "output_type": "stream",
          "name": "stdout",
          "text": [
            "Drive already mounted at /content/drive; to attempt to forcibly remount, call drive.mount(\"/content/drive\", force_remount=True).\n"
          ]
        }
      ],
      "source": [
        "from google.colab import drive\n",
        "drive.mount('/content/drive')"
      ]
    },
    {
      "cell_type": "markdown",
      "metadata": {
        "id": "lf2uv9m-pTRv"
      },
      "source": [
        "Importing Libraries"
      ]
    },
    {
      "cell_type": "code",
      "execution_count": 254,
      "metadata": {
        "id": "yw97hpXJpa14"
      },
      "outputs": [],
      "source": [
        "import numpy \n",
        "import math \n",
        "import random\n",
        "import pandas "
      ]
    },
    {
      "cell_type": "markdown",
      "metadata": {
        "id": "jbU1RLVEpp_M"
      },
      "source": [
        "**Data Input**"
      ]
    },
    {
      "cell_type": "code",
      "execution_count": 255,
      "metadata": {
        "id": "OSirqKNFphUC",
        "colab": {
          "base_uri": "https://localhost:8080/",
          "height": 282
        },
        "outputId": "24aa15df-7bd3-46a2-c43d-a1439a201644"
      },
      "outputs": [
        {
          "output_type": "execute_result",
          "data": {
            "text/plain": [
              "         DOW  Filled Time  Drained Time\n",
              "0     Sunday           18             8\n",
              "1     Monday           10            11\n",
              "2    Tuesday           13             7\n",
              "3  Wednesday            8            16\n",
              "4   Thursday           18            16\n",
              "5     Friday           18            22\n",
              "6   Saturday           24            14"
            ],
            "text/html": [
              "\n",
              "  <div id=\"df-a6a5efbb-85fb-4122-b20d-60547c3033cd\">\n",
              "    <div class=\"colab-df-container\">\n",
              "      <div>\n",
              "<style scoped>\n",
              "    .dataframe tbody tr th:only-of-type {\n",
              "        vertical-align: middle;\n",
              "    }\n",
              "\n",
              "    .dataframe tbody tr th {\n",
              "        vertical-align: top;\n",
              "    }\n",
              "\n",
              "    .dataframe thead th {\n",
              "        text-align: right;\n",
              "    }\n",
              "</style>\n",
              "<table border=\"1\" class=\"dataframe\">\n",
              "  <thead>\n",
              "    <tr style=\"text-align: right;\">\n",
              "      <th></th>\n",
              "      <th>DOW</th>\n",
              "      <th>Filled Time</th>\n",
              "      <th>Drained Time</th>\n",
              "    </tr>\n",
              "  </thead>\n",
              "  <tbody>\n",
              "    <tr>\n",
              "      <th>0</th>\n",
              "      <td>Sunday</td>\n",
              "      <td>18</td>\n",
              "      <td>8</td>\n",
              "    </tr>\n",
              "    <tr>\n",
              "      <th>1</th>\n",
              "      <td>Monday</td>\n",
              "      <td>10</td>\n",
              "      <td>11</td>\n",
              "    </tr>\n",
              "    <tr>\n",
              "      <th>2</th>\n",
              "      <td>Tuesday</td>\n",
              "      <td>13</td>\n",
              "      <td>7</td>\n",
              "    </tr>\n",
              "    <tr>\n",
              "      <th>3</th>\n",
              "      <td>Wednesday</td>\n",
              "      <td>8</td>\n",
              "      <td>16</td>\n",
              "    </tr>\n",
              "    <tr>\n",
              "      <th>4</th>\n",
              "      <td>Thursday</td>\n",
              "      <td>18</td>\n",
              "      <td>16</td>\n",
              "    </tr>\n",
              "    <tr>\n",
              "      <th>5</th>\n",
              "      <td>Friday</td>\n",
              "      <td>18</td>\n",
              "      <td>22</td>\n",
              "    </tr>\n",
              "    <tr>\n",
              "      <th>6</th>\n",
              "      <td>Saturday</td>\n",
              "      <td>24</td>\n",
              "      <td>14</td>\n",
              "    </tr>\n",
              "  </tbody>\n",
              "</table>\n",
              "</div>\n",
              "      <button class=\"colab-df-convert\" onclick=\"convertToInteractive('df-a6a5efbb-85fb-4122-b20d-60547c3033cd')\"\n",
              "              title=\"Convert this dataframe to an interactive table.\"\n",
              "              style=\"display:none;\">\n",
              "        \n",
              "  <svg xmlns=\"http://www.w3.org/2000/svg\" height=\"24px\"viewBox=\"0 0 24 24\"\n",
              "       width=\"24px\">\n",
              "    <path d=\"M0 0h24v24H0V0z\" fill=\"none\"/>\n",
              "    <path d=\"M18.56 5.44l.94 2.06.94-2.06 2.06-.94-2.06-.94-.94-2.06-.94 2.06-2.06.94zm-11 1L8.5 8.5l.94-2.06 2.06-.94-2.06-.94L8.5 2.5l-.94 2.06-2.06.94zm10 10l.94 2.06.94-2.06 2.06-.94-2.06-.94-.94-2.06-.94 2.06-2.06.94z\"/><path d=\"M17.41 7.96l-1.37-1.37c-.4-.4-.92-.59-1.43-.59-.52 0-1.04.2-1.43.59L10.3 9.45l-7.72 7.72c-.78.78-.78 2.05 0 2.83L4 21.41c.39.39.9.59 1.41.59.51 0 1.02-.2 1.41-.59l7.78-7.78 2.81-2.81c.8-.78.8-2.07 0-2.86zM5.41 20L4 18.59l7.72-7.72 1.47 1.35L5.41 20z\"/>\n",
              "  </svg>\n",
              "      </button>\n",
              "      \n",
              "  <style>\n",
              "    .colab-df-container {\n",
              "      display:flex;\n",
              "      flex-wrap:wrap;\n",
              "      gap: 12px;\n",
              "    }\n",
              "\n",
              "    .colab-df-convert {\n",
              "      background-color: #E8F0FE;\n",
              "      border: none;\n",
              "      border-radius: 50%;\n",
              "      cursor: pointer;\n",
              "      display: none;\n",
              "      fill: #1967D2;\n",
              "      height: 32px;\n",
              "      padding: 0 0 0 0;\n",
              "      width: 32px;\n",
              "    }\n",
              "\n",
              "    .colab-df-convert:hover {\n",
              "      background-color: #E2EBFA;\n",
              "      box-shadow: 0px 1px 2px rgba(60, 64, 67, 0.3), 0px 1px 3px 1px rgba(60, 64, 67, 0.15);\n",
              "      fill: #174EA6;\n",
              "    }\n",
              "\n",
              "    [theme=dark] .colab-df-convert {\n",
              "      background-color: #3B4455;\n",
              "      fill: #D2E3FC;\n",
              "    }\n",
              "\n",
              "    [theme=dark] .colab-df-convert:hover {\n",
              "      background-color: #434B5C;\n",
              "      box-shadow: 0px 1px 3px 1px rgba(0, 0, 0, 0.15);\n",
              "      filter: drop-shadow(0px 1px 2px rgba(0, 0, 0, 0.3));\n",
              "      fill: #FFFFFF;\n",
              "    }\n",
              "  </style>\n",
              "\n",
              "      <script>\n",
              "        const buttonEl =\n",
              "          document.querySelector('#df-a6a5efbb-85fb-4122-b20d-60547c3033cd button.colab-df-convert');\n",
              "        buttonEl.style.display =\n",
              "          google.colab.kernel.accessAllowed ? 'block' : 'none';\n",
              "\n",
              "        async function convertToInteractive(key) {\n",
              "          const element = document.querySelector('#df-a6a5efbb-85fb-4122-b20d-60547c3033cd');\n",
              "          const dataTable =\n",
              "            await google.colab.kernel.invokeFunction('convertToInteractive',\n",
              "                                                     [key], {});\n",
              "          if (!dataTable) return;\n",
              "\n",
              "          const docLinkHtml = 'Like what you see? Visit the ' +\n",
              "            '<a target=\"_blank\" href=https://colab.research.google.com/notebooks/data_table.ipynb>data table notebook</a>'\n",
              "            + ' to learn more about interactive tables.';\n",
              "          element.innerHTML = '';\n",
              "          dataTable['output_type'] = 'display_data';\n",
              "          await google.colab.output.renderOutput(dataTable, element);\n",
              "          const docLink = document.createElement('div');\n",
              "          docLink.innerHTML = docLinkHtml;\n",
              "          element.appendChild(docLink);\n",
              "        }\n",
              "      </script>\n",
              "    </div>\n",
              "  </div>\n",
              "  "
            ]
          },
          "metadata": {},
          "execution_count": 255
        }
      ],
      "source": [
        "tank = pandas.read_csv('/content/drive/MyDrive/Tank.csv')\n",
        "tank.head(7)"
      ]
    },
    {
      "cell_type": "code",
      "source": [
        "print(tank.info())"
      ],
      "metadata": {
        "colab": {
          "base_uri": "https://localhost:8080/"
        },
        "id": "WHsCKaFaqhaA",
        "outputId": "d48833a8-a6a7-41bf-ea9b-e3401ed829c7"
      },
      "execution_count": 256,
      "outputs": [
        {
          "output_type": "stream",
          "name": "stdout",
          "text": [
            "<class 'pandas.core.frame.DataFrame'>\n",
            "RangeIndex: 303 entries, 0 to 302\n",
            "Data columns (total 3 columns):\n",
            " #   Column        Non-Null Count  Dtype \n",
            "---  ------        --------------  ----- \n",
            " 0   DOW           303 non-null    object\n",
            " 1   Filled Time   303 non-null    int64 \n",
            " 2   Drained Time  303 non-null    int64 \n",
            "dtypes: int64(2), object(1)\n",
            "memory usage: 7.2+ KB\n",
            "None\n"
          ]
        }
      ]
    },
    {
      "cell_type": "markdown",
      "metadata": {
        "id": "6g_QsEYZ22hk"
      },
      "source": [
        "**Calculate Difference** [ Time Taken to Drain = Drain Time - Filled Time ]"
      ]
    },
    {
      "cell_type": "code",
      "execution_count": 257,
      "metadata": {
        "id": "lfTSG3A227Yh"
      },
      "outputs": [],
      "source": [
        "ftime=tank['Filled Time']\n",
        "dtime=tank['Drained Time']\n",
        "timetook=dtime-ftime\n",
        "tank = pandas.concat([tank, timetook],axis = 1)\n",
        "#tank.drop(['Filled Time'],axis=1,inplace = True)\n",
        "tank.drop(['Drained Time'],axis=1,inplace = True)\n",
        "tank = tank.rename(columns=({0:'Drain Time'}))\n",
        "#tank.head(7)"
      ]
    },
    {
      "cell_type": "markdown",
      "metadata": {
        "id": "VnJeppj_-4d0"
      },
      "source": [
        "No Negative Numbers"
      ]
    },
    {
      "cell_type": "code",
      "execution_count": 258,
      "metadata": {
        "id": "qi-Uzs8-CXvX",
        "colab": {
          "base_uri": "https://localhost:8080/",
          "height": 282
        },
        "outputId": "241a6492-c563-460a-8273-c5eafc8081a0"
      },
      "outputs": [
        {
          "output_type": "execute_result",
          "data": {
            "text/plain": [
              "         DOW  Filled Time  Drain Time\n",
              "0     Sunday           18          34\n",
              "1     Monday           10           1\n",
              "2    Tuesday           13          30\n",
              "3  Wednesday            8           8\n",
              "4   Thursday           18          26\n",
              "5     Friday           18           4\n",
              "6   Saturday           24          34"
            ],
            "text/html": [
              "\n",
              "  <div id=\"df-25701c0a-049a-430f-97b5-37dbc651b8cd\">\n",
              "    <div class=\"colab-df-container\">\n",
              "      <div>\n",
              "<style scoped>\n",
              "    .dataframe tbody tr th:only-of-type {\n",
              "        vertical-align: middle;\n",
              "    }\n",
              "\n",
              "    .dataframe tbody tr th {\n",
              "        vertical-align: top;\n",
              "    }\n",
              "\n",
              "    .dataframe thead th {\n",
              "        text-align: right;\n",
              "    }\n",
              "</style>\n",
              "<table border=\"1\" class=\"dataframe\">\n",
              "  <thead>\n",
              "    <tr style=\"text-align: right;\">\n",
              "      <th></th>\n",
              "      <th>DOW</th>\n",
              "      <th>Filled Time</th>\n",
              "      <th>Drain Time</th>\n",
              "    </tr>\n",
              "  </thead>\n",
              "  <tbody>\n",
              "    <tr>\n",
              "      <th>0</th>\n",
              "      <td>Sunday</td>\n",
              "      <td>18</td>\n",
              "      <td>34</td>\n",
              "    </tr>\n",
              "    <tr>\n",
              "      <th>1</th>\n",
              "      <td>Monday</td>\n",
              "      <td>10</td>\n",
              "      <td>1</td>\n",
              "    </tr>\n",
              "    <tr>\n",
              "      <th>2</th>\n",
              "      <td>Tuesday</td>\n",
              "      <td>13</td>\n",
              "      <td>30</td>\n",
              "    </tr>\n",
              "    <tr>\n",
              "      <th>3</th>\n",
              "      <td>Wednesday</td>\n",
              "      <td>8</td>\n",
              "      <td>8</td>\n",
              "    </tr>\n",
              "    <tr>\n",
              "      <th>4</th>\n",
              "      <td>Thursday</td>\n",
              "      <td>18</td>\n",
              "      <td>26</td>\n",
              "    </tr>\n",
              "    <tr>\n",
              "      <th>5</th>\n",
              "      <td>Friday</td>\n",
              "      <td>18</td>\n",
              "      <td>4</td>\n",
              "    </tr>\n",
              "    <tr>\n",
              "      <th>6</th>\n",
              "      <td>Saturday</td>\n",
              "      <td>24</td>\n",
              "      <td>34</td>\n",
              "    </tr>\n",
              "  </tbody>\n",
              "</table>\n",
              "</div>\n",
              "      <button class=\"colab-df-convert\" onclick=\"convertToInteractive('df-25701c0a-049a-430f-97b5-37dbc651b8cd')\"\n",
              "              title=\"Convert this dataframe to an interactive table.\"\n",
              "              style=\"display:none;\">\n",
              "        \n",
              "  <svg xmlns=\"http://www.w3.org/2000/svg\" height=\"24px\"viewBox=\"0 0 24 24\"\n",
              "       width=\"24px\">\n",
              "    <path d=\"M0 0h24v24H0V0z\" fill=\"none\"/>\n",
              "    <path d=\"M18.56 5.44l.94 2.06.94-2.06 2.06-.94-2.06-.94-.94-2.06-.94 2.06-2.06.94zm-11 1L8.5 8.5l.94-2.06 2.06-.94-2.06-.94L8.5 2.5l-.94 2.06-2.06.94zm10 10l.94 2.06.94-2.06 2.06-.94-2.06-.94-.94-2.06-.94 2.06-2.06.94z\"/><path d=\"M17.41 7.96l-1.37-1.37c-.4-.4-.92-.59-1.43-.59-.52 0-1.04.2-1.43.59L10.3 9.45l-7.72 7.72c-.78.78-.78 2.05 0 2.83L4 21.41c.39.39.9.59 1.41.59.51 0 1.02-.2 1.41-.59l7.78-7.78 2.81-2.81c.8-.78.8-2.07 0-2.86zM5.41 20L4 18.59l7.72-7.72 1.47 1.35L5.41 20z\"/>\n",
              "  </svg>\n",
              "      </button>\n",
              "      \n",
              "  <style>\n",
              "    .colab-df-container {\n",
              "      display:flex;\n",
              "      flex-wrap:wrap;\n",
              "      gap: 12px;\n",
              "    }\n",
              "\n",
              "    .colab-df-convert {\n",
              "      background-color: #E8F0FE;\n",
              "      border: none;\n",
              "      border-radius: 50%;\n",
              "      cursor: pointer;\n",
              "      display: none;\n",
              "      fill: #1967D2;\n",
              "      height: 32px;\n",
              "      padding: 0 0 0 0;\n",
              "      width: 32px;\n",
              "    }\n",
              "\n",
              "    .colab-df-convert:hover {\n",
              "      background-color: #E2EBFA;\n",
              "      box-shadow: 0px 1px 2px rgba(60, 64, 67, 0.3), 0px 1px 3px 1px rgba(60, 64, 67, 0.15);\n",
              "      fill: #174EA6;\n",
              "    }\n",
              "\n",
              "    [theme=dark] .colab-df-convert {\n",
              "      background-color: #3B4455;\n",
              "      fill: #D2E3FC;\n",
              "    }\n",
              "\n",
              "    [theme=dark] .colab-df-convert:hover {\n",
              "      background-color: #434B5C;\n",
              "      box-shadow: 0px 1px 3px 1px rgba(0, 0, 0, 0.15);\n",
              "      filter: drop-shadow(0px 1px 2px rgba(0, 0, 0, 0.3));\n",
              "      fill: #FFFFFF;\n",
              "    }\n",
              "  </style>\n",
              "\n",
              "      <script>\n",
              "        const buttonEl =\n",
              "          document.querySelector('#df-25701c0a-049a-430f-97b5-37dbc651b8cd button.colab-df-convert');\n",
              "        buttonEl.style.display =\n",
              "          google.colab.kernel.accessAllowed ? 'block' : 'none';\n",
              "\n",
              "        async function convertToInteractive(key) {\n",
              "          const element = document.querySelector('#df-25701c0a-049a-430f-97b5-37dbc651b8cd');\n",
              "          const dataTable =\n",
              "            await google.colab.kernel.invokeFunction('convertToInteractive',\n",
              "                                                     [key], {});\n",
              "          if (!dataTable) return;\n",
              "\n",
              "          const docLinkHtml = 'Like what you see? Visit the ' +\n",
              "            '<a target=\"_blank\" href=https://colab.research.google.com/notebooks/data_table.ipynb>data table notebook</a>'\n",
              "            + ' to learn more about interactive tables.';\n",
              "          element.innerHTML = '';\n",
              "          dataTable['output_type'] = 'display_data';\n",
              "          await google.colab.output.renderOutput(dataTable, element);\n",
              "          const docLink = document.createElement('div');\n",
              "          docLink.innerHTML = docLinkHtml;\n",
              "          element.appendChild(docLink);\n",
              "        }\n",
              "      </script>\n",
              "    </div>\n",
              "  </div>\n",
              "  "
            ]
          },
          "metadata": {},
          "execution_count": 258
        }
      ],
      "source": [
        "data = tank['Drain Time']\n",
        "i=0\n",
        "for j in data:\n",
        "  if j<1:\n",
        "    tank.loc[i,'Drain Time'] = (j*-1)+24\n",
        "  i=i+1\n",
        "tank.head(7)"
      ]
    },
    {
      "cell_type": "markdown",
      "metadata": {
        "id": "Si6J7d-AFi2S"
      },
      "source": [
        "Outliers Detection"
      ]
    },
    {
      "cell_type": "code",
      "execution_count": 259,
      "metadata": {
        "id": "VtnUUbrJ34_M"
      },
      "outputs": [],
      "source": [
        "def detect_outliers_zscore(data):\n",
        "    outliers = []\n",
        "    thres = 1.45\n",
        "    mean = numpy.mean(data)\n",
        "    std = numpy.std(data)\n",
        "    for i in data:\n",
        "        z_score = (i-mean)/std\n",
        "        if (numpy.abs(z_score) > thres):\n",
        "            outliers.append(i)\n",
        "    return outliers"
      ]
    },
    {
      "cell_type": "code",
      "execution_count": 260,
      "metadata": {
        "id": "sV3q3YajFyIO",
        "colab": {
          "base_uri": "https://localhost:8080/"
        },
        "outputId": "58158156-29a2-4a01-d393-abadf46de4d4"
      },
      "outputs": [
        {
          "output_type": "stream",
          "name": "stdout",
          "text": [
            "No.of Outliers in \"Drain Time\" Column: 26\n",
            "Outliers in 'Drain Time' column :  [1, 44, 45, 46, 1, 1, 1, 1, 46, 47, 1, 1, 1, 44, 44, 1, 44, 45, 1, 1, 1, 1, 63, 47, 75, 106]\n"
          ]
        }
      ],
      "source": [
        "sample_outliers_Drain_Time = detect_outliers_zscore(tank['Drain Time'])\n",
        "#sample_outliers_Fllled = detect_outliers_zscore(tank['Filled Time'])\n",
        "#print('No.of Outliers in \"Fllled\" Column:', len(sample_outliers_Fllled))\n",
        "#print(\"Outliers in 'Filled Time' column : \", sample_outliers_Fllled)\n",
        "print('No.of Outliers in \"Drain Time\" Column:', len(sample_outliers_Drain_Time))\n",
        "print(\"Outliers in 'Drain Time' column : \", sample_outliers_Drain_Time)"
      ]
    },
    {
      "cell_type": "code",
      "execution_count": 261,
      "metadata": {
        "id": "QVZ8yIAlGUiO"
      },
      "outputs": [],
      "source": [
        "from scipy.stats import zscore\n",
        "z = numpy.abs(zscore(tank['Drain Time']))\n",
        "tank['Zscore_Drain_Time'] = z\n",
        "outliers_Drain_Time=len(tank[tank['Zscore_Drain_Time']>1])\n",
        "data_z = tank[tank['Zscore_Drain_Time']<1.45]\n",
        "tank=data_z.drop(['Zscore_Drain_Time'], axis=1)"
      ]
    },
    {
      "cell_type": "code",
      "execution_count": 262,
      "metadata": {
        "id": "ScLhZ-dTIjtj",
        "colab": {
          "base_uri": "https://localhost:8080/"
        },
        "outputId": "06fb5ed8-9881-4e14-8785-a988e4b90197"
      },
      "outputs": [
        {
          "output_type": "stream",
          "name": "stdout",
          "text": [
            "       Filled Time  Drain Time\n",
            "count   277.000000  277.000000\n",
            "mean     13.866426   22.162455\n",
            "std       6.949105   12.422468\n",
            "min       1.000000    2.000000\n",
            "25%       7.000000    9.000000\n",
            "50%      15.000000   26.000000\n",
            "75%      20.000000   32.000000\n",
            "max      26.000000   43.000000\n"
          ]
        }
      ],
      "source": [
        "print(tank.describe())"
      ]
    },
    {
      "cell_type": "markdown",
      "metadata": {
        "id": "MUHFzeyHILaH"
      },
      "source": [
        "Missing Value Treatment"
      ]
    },
    {
      "cell_type": "code",
      "execution_count": 263,
      "metadata": {
        "id": "8Av_JQKZIODZ",
        "colab": {
          "base_uri": "https://localhost:8080/"
        },
        "outputId": "eacc1e67-c32f-475e-b3ac-847d9c327d68"
      },
      "outputs": [
        {
          "output_type": "stream",
          "name": "stdout",
          "text": [
            "DOW            0\n",
            "Filled Time    0\n",
            "Drain Time     0\n",
            "dtype: int64\n"
          ]
        }
      ],
      "source": [
        "print(tank.isnull().sum())"
      ]
    },
    {
      "cell_type": "markdown",
      "source": [
        "Correlation Matrix"
      ],
      "metadata": {
        "id": "fzccThb1vFDM"
      }
    },
    {
      "cell_type": "markdown",
      "metadata": {
        "id": "C5xTUvWf3fia"
      },
      "source": [
        "\n",
        "Catergorical CONVERSION"
      ]
    },
    {
      "cell_type": "code",
      "execution_count": 264,
      "metadata": {
        "id": "B11mtqd53jK7",
        "colab": {
          "base_uri": "https://localhost:8080/",
          "height": 433
        },
        "outputId": "ce60b0de-0f9f-4266-d8c9-8eb2c3b70b6b"
      },
      "outputs": [
        {
          "output_type": "execute_result",
          "data": {
            "text/plain": [
              "     Filled Time  Drain Time  Monday  Saturday  Sunday  Thursday  Tuesday  \\\n",
              "0             18          34       0         0       1         0        0   \n",
              "2             13          30       0         0       0         0        1   \n",
              "3              8           8       0         0       0         0        0   \n",
              "4             18          26       0         0       0         1        0   \n",
              "5             18           4       0         0       0         0        0   \n",
              "..           ...         ...     ...       ...     ...       ...      ...   \n",
              "296            8           5       1         0       0         0        0   \n",
              "299           11           6       0         0       0         1        0   \n",
              "300           18          29       0         0       0         0        0   \n",
              "301           14          36       0         1       0         0        0   \n",
              "302            4           3       0         0       1         0        0   \n",
              "\n",
              "     Wednesday  \n",
              "0            0  \n",
              "2            0  \n",
              "3            1  \n",
              "4            0  \n",
              "5            0  \n",
              "..         ...  \n",
              "296          0  \n",
              "299          0  \n",
              "300          0  \n",
              "301          0  \n",
              "302          0  \n",
              "\n",
              "[277 rows x 8 columns]"
            ],
            "text/html": [
              "\n",
              "  <div id=\"df-858d9384-d3aa-4f63-a030-14426761636e\">\n",
              "    <div class=\"colab-df-container\">\n",
              "      <div>\n",
              "<style scoped>\n",
              "    .dataframe tbody tr th:only-of-type {\n",
              "        vertical-align: middle;\n",
              "    }\n",
              "\n",
              "    .dataframe tbody tr th {\n",
              "        vertical-align: top;\n",
              "    }\n",
              "\n",
              "    .dataframe thead th {\n",
              "        text-align: right;\n",
              "    }\n",
              "</style>\n",
              "<table border=\"1\" class=\"dataframe\">\n",
              "  <thead>\n",
              "    <tr style=\"text-align: right;\">\n",
              "      <th></th>\n",
              "      <th>Filled Time</th>\n",
              "      <th>Drain Time</th>\n",
              "      <th>Monday</th>\n",
              "      <th>Saturday</th>\n",
              "      <th>Sunday</th>\n",
              "      <th>Thursday</th>\n",
              "      <th>Tuesday</th>\n",
              "      <th>Wednesday</th>\n",
              "    </tr>\n",
              "  </thead>\n",
              "  <tbody>\n",
              "    <tr>\n",
              "      <th>0</th>\n",
              "      <td>18</td>\n",
              "      <td>34</td>\n",
              "      <td>0</td>\n",
              "      <td>0</td>\n",
              "      <td>1</td>\n",
              "      <td>0</td>\n",
              "      <td>0</td>\n",
              "      <td>0</td>\n",
              "    </tr>\n",
              "    <tr>\n",
              "      <th>2</th>\n",
              "      <td>13</td>\n",
              "      <td>30</td>\n",
              "      <td>0</td>\n",
              "      <td>0</td>\n",
              "      <td>0</td>\n",
              "      <td>0</td>\n",
              "      <td>1</td>\n",
              "      <td>0</td>\n",
              "    </tr>\n",
              "    <tr>\n",
              "      <th>3</th>\n",
              "      <td>8</td>\n",
              "      <td>8</td>\n",
              "      <td>0</td>\n",
              "      <td>0</td>\n",
              "      <td>0</td>\n",
              "      <td>0</td>\n",
              "      <td>0</td>\n",
              "      <td>1</td>\n",
              "    </tr>\n",
              "    <tr>\n",
              "      <th>4</th>\n",
              "      <td>18</td>\n",
              "      <td>26</td>\n",
              "      <td>0</td>\n",
              "      <td>0</td>\n",
              "      <td>0</td>\n",
              "      <td>1</td>\n",
              "      <td>0</td>\n",
              "      <td>0</td>\n",
              "    </tr>\n",
              "    <tr>\n",
              "      <th>5</th>\n",
              "      <td>18</td>\n",
              "      <td>4</td>\n",
              "      <td>0</td>\n",
              "      <td>0</td>\n",
              "      <td>0</td>\n",
              "      <td>0</td>\n",
              "      <td>0</td>\n",
              "      <td>0</td>\n",
              "    </tr>\n",
              "    <tr>\n",
              "      <th>...</th>\n",
              "      <td>...</td>\n",
              "      <td>...</td>\n",
              "      <td>...</td>\n",
              "      <td>...</td>\n",
              "      <td>...</td>\n",
              "      <td>...</td>\n",
              "      <td>...</td>\n",
              "      <td>...</td>\n",
              "    </tr>\n",
              "    <tr>\n",
              "      <th>296</th>\n",
              "      <td>8</td>\n",
              "      <td>5</td>\n",
              "      <td>1</td>\n",
              "      <td>0</td>\n",
              "      <td>0</td>\n",
              "      <td>0</td>\n",
              "      <td>0</td>\n",
              "      <td>0</td>\n",
              "    </tr>\n",
              "    <tr>\n",
              "      <th>299</th>\n",
              "      <td>11</td>\n",
              "      <td>6</td>\n",
              "      <td>0</td>\n",
              "      <td>0</td>\n",
              "      <td>0</td>\n",
              "      <td>1</td>\n",
              "      <td>0</td>\n",
              "      <td>0</td>\n",
              "    </tr>\n",
              "    <tr>\n",
              "      <th>300</th>\n",
              "      <td>18</td>\n",
              "      <td>29</td>\n",
              "      <td>0</td>\n",
              "      <td>0</td>\n",
              "      <td>0</td>\n",
              "      <td>0</td>\n",
              "      <td>0</td>\n",
              "      <td>0</td>\n",
              "    </tr>\n",
              "    <tr>\n",
              "      <th>301</th>\n",
              "      <td>14</td>\n",
              "      <td>36</td>\n",
              "      <td>0</td>\n",
              "      <td>1</td>\n",
              "      <td>0</td>\n",
              "      <td>0</td>\n",
              "      <td>0</td>\n",
              "      <td>0</td>\n",
              "    </tr>\n",
              "    <tr>\n",
              "      <th>302</th>\n",
              "      <td>4</td>\n",
              "      <td>3</td>\n",
              "      <td>0</td>\n",
              "      <td>0</td>\n",
              "      <td>1</td>\n",
              "      <td>0</td>\n",
              "      <td>0</td>\n",
              "      <td>0</td>\n",
              "    </tr>\n",
              "  </tbody>\n",
              "</table>\n",
              "<p>277 rows × 8 columns</p>\n",
              "</div>\n",
              "      <button class=\"colab-df-convert\" onclick=\"convertToInteractive('df-858d9384-d3aa-4f63-a030-14426761636e')\"\n",
              "              title=\"Convert this dataframe to an interactive table.\"\n",
              "              style=\"display:none;\">\n",
              "        \n",
              "  <svg xmlns=\"http://www.w3.org/2000/svg\" height=\"24px\"viewBox=\"0 0 24 24\"\n",
              "       width=\"24px\">\n",
              "    <path d=\"M0 0h24v24H0V0z\" fill=\"none\"/>\n",
              "    <path d=\"M18.56 5.44l.94 2.06.94-2.06 2.06-.94-2.06-.94-.94-2.06-.94 2.06-2.06.94zm-11 1L8.5 8.5l.94-2.06 2.06-.94-2.06-.94L8.5 2.5l-.94 2.06-2.06.94zm10 10l.94 2.06.94-2.06 2.06-.94-2.06-.94-.94-2.06-.94 2.06-2.06.94z\"/><path d=\"M17.41 7.96l-1.37-1.37c-.4-.4-.92-.59-1.43-.59-.52 0-1.04.2-1.43.59L10.3 9.45l-7.72 7.72c-.78.78-.78 2.05 0 2.83L4 21.41c.39.39.9.59 1.41.59.51 0 1.02-.2 1.41-.59l7.78-7.78 2.81-2.81c.8-.78.8-2.07 0-2.86zM5.41 20L4 18.59l7.72-7.72 1.47 1.35L5.41 20z\"/>\n",
              "  </svg>\n",
              "      </button>\n",
              "      \n",
              "  <style>\n",
              "    .colab-df-container {\n",
              "      display:flex;\n",
              "      flex-wrap:wrap;\n",
              "      gap: 12px;\n",
              "    }\n",
              "\n",
              "    .colab-df-convert {\n",
              "      background-color: #E8F0FE;\n",
              "      border: none;\n",
              "      border-radius: 50%;\n",
              "      cursor: pointer;\n",
              "      display: none;\n",
              "      fill: #1967D2;\n",
              "      height: 32px;\n",
              "      padding: 0 0 0 0;\n",
              "      width: 32px;\n",
              "    }\n",
              "\n",
              "    .colab-df-convert:hover {\n",
              "      background-color: #E2EBFA;\n",
              "      box-shadow: 0px 1px 2px rgba(60, 64, 67, 0.3), 0px 1px 3px 1px rgba(60, 64, 67, 0.15);\n",
              "      fill: #174EA6;\n",
              "    }\n",
              "\n",
              "    [theme=dark] .colab-df-convert {\n",
              "      background-color: #3B4455;\n",
              "      fill: #D2E3FC;\n",
              "    }\n",
              "\n",
              "    [theme=dark] .colab-df-convert:hover {\n",
              "      background-color: #434B5C;\n",
              "      box-shadow: 0px 1px 3px 1px rgba(0, 0, 0, 0.15);\n",
              "      filter: drop-shadow(0px 1px 2px rgba(0, 0, 0, 0.3));\n",
              "      fill: #FFFFFF;\n",
              "    }\n",
              "  </style>\n",
              "\n",
              "      <script>\n",
              "        const buttonEl =\n",
              "          document.querySelector('#df-858d9384-d3aa-4f63-a030-14426761636e button.colab-df-convert');\n",
              "        buttonEl.style.display =\n",
              "          google.colab.kernel.accessAllowed ? 'block' : 'none';\n",
              "\n",
              "        async function convertToInteractive(key) {\n",
              "          const element = document.querySelector('#df-858d9384-d3aa-4f63-a030-14426761636e');\n",
              "          const dataTable =\n",
              "            await google.colab.kernel.invokeFunction('convertToInteractive',\n",
              "                                                     [key], {});\n",
              "          if (!dataTable) return;\n",
              "\n",
              "          const docLinkHtml = 'Like what you see? Visit the ' +\n",
              "            '<a target=\"_blank\" href=https://colab.research.google.com/notebooks/data_table.ipynb>data table notebook</a>'\n",
              "            + ' to learn more about interactive tables.';\n",
              "          element.innerHTML = '';\n",
              "          dataTable['output_type'] = 'display_data';\n",
              "          await google.colab.output.renderOutput(dataTable, element);\n",
              "          const docLink = document.createElement('div');\n",
              "          docLink.innerHTML = docLinkHtml;\n",
              "          element.appendChild(docLink);\n",
              "        }\n",
              "      </script>\n",
              "    </div>\n",
              "  </div>\n",
              "  "
            ]
          },
          "metadata": {},
          "execution_count": 264
        }
      ],
      "source": [
        "status = pandas.get_dummies(tank['DOW'], drop_first = True)\n",
        "tank = pandas.concat([tank, status],axis = 1)\n",
        "tank.drop(['DOW'],axis = 1, inplace = True)\n",
        "tank"
      ]
    },
    {
      "cell_type": "markdown",
      "metadata": {
        "id": "Ve2kAS4UIpJ7"
      },
      "source": [
        "DATA Split"
      ]
    },
    {
      "cell_type": "code",
      "execution_count": 265,
      "metadata": {
        "id": "V5ISuWr6Iqhz"
      },
      "outputs": [],
      "source": [
        "from sklearn.model_selection import train_test_split\n",
        "tank_train, tank_test= train_test_split(tank,train_size = 0.80, test_size = 0.20, random_state = 1438)"
      ]
    },
    {
      "cell_type": "markdown",
      "metadata": {
        "id": "WRWX79J6Ibxk"
      },
      "source": [
        "DATA Normalization"
      ]
    },
    {
      "cell_type": "code",
      "execution_count": 266,
      "metadata": {
        "id": "6vbdVLcUIe1K",
        "colab": {
          "base_uri": "https://localhost:8080/",
          "height": 433
        },
        "outputId": "1a65f3cb-af19-4974-da6c-e270e7e60b5a"
      },
      "outputs": [
        {
          "output_type": "execute_result",
          "data": {
            "text/plain": [
              "     Filled Time  Drain Time  Monday  Saturday  Sunday  Thursday  Tuesday  \\\n",
              "51          0.68    0.780488       0         0       0         1        0   \n",
              "176         0.40    0.097561       0         0       1         0        0   \n",
              "262         0.08    0.146341       0         0       0         0        1   \n",
              "88          0.72    0.073171       0         0       0         0        1   \n",
              "187         0.80    0.024390       0         0       0         1        0   \n",
              "..           ...         ...     ...       ...     ...       ...      ...   \n",
              "191         0.76    0.000000       1         0       0         0        0   \n",
              "228         0.64    0.707317       0         0       0         0        0   \n",
              "233         0.32    0.658537       1         0       0         0        0   \n",
              "175         0.84    0.853659       0         1       0         0        0   \n",
              "243         0.44    0.146341       0         0       0         1        0   \n",
              "\n",
              "     Wednesday  \n",
              "51           0  \n",
              "176          0  \n",
              "262          0  \n",
              "88           0  \n",
              "187          0  \n",
              "..         ...  \n",
              "191          0  \n",
              "228          1  \n",
              "233          0  \n",
              "175          0  \n",
              "243          0  \n",
              "\n",
              "[221 rows x 8 columns]"
            ],
            "text/html": [
              "\n",
              "  <div id=\"df-9be8ac2c-8682-4bd9-aa51-903041128b98\">\n",
              "    <div class=\"colab-df-container\">\n",
              "      <div>\n",
              "<style scoped>\n",
              "    .dataframe tbody tr th:only-of-type {\n",
              "        vertical-align: middle;\n",
              "    }\n",
              "\n",
              "    .dataframe tbody tr th {\n",
              "        vertical-align: top;\n",
              "    }\n",
              "\n",
              "    .dataframe thead th {\n",
              "        text-align: right;\n",
              "    }\n",
              "</style>\n",
              "<table border=\"1\" class=\"dataframe\">\n",
              "  <thead>\n",
              "    <tr style=\"text-align: right;\">\n",
              "      <th></th>\n",
              "      <th>Filled Time</th>\n",
              "      <th>Drain Time</th>\n",
              "      <th>Monday</th>\n",
              "      <th>Saturday</th>\n",
              "      <th>Sunday</th>\n",
              "      <th>Thursday</th>\n",
              "      <th>Tuesday</th>\n",
              "      <th>Wednesday</th>\n",
              "    </tr>\n",
              "  </thead>\n",
              "  <tbody>\n",
              "    <tr>\n",
              "      <th>51</th>\n",
              "      <td>0.68</td>\n",
              "      <td>0.780488</td>\n",
              "      <td>0</td>\n",
              "      <td>0</td>\n",
              "      <td>0</td>\n",
              "      <td>1</td>\n",
              "      <td>0</td>\n",
              "      <td>0</td>\n",
              "    </tr>\n",
              "    <tr>\n",
              "      <th>176</th>\n",
              "      <td>0.40</td>\n",
              "      <td>0.097561</td>\n",
              "      <td>0</td>\n",
              "      <td>0</td>\n",
              "      <td>1</td>\n",
              "      <td>0</td>\n",
              "      <td>0</td>\n",
              "      <td>0</td>\n",
              "    </tr>\n",
              "    <tr>\n",
              "      <th>262</th>\n",
              "      <td>0.08</td>\n",
              "      <td>0.146341</td>\n",
              "      <td>0</td>\n",
              "      <td>0</td>\n",
              "      <td>0</td>\n",
              "      <td>0</td>\n",
              "      <td>1</td>\n",
              "      <td>0</td>\n",
              "    </tr>\n",
              "    <tr>\n",
              "      <th>88</th>\n",
              "      <td>0.72</td>\n",
              "      <td>0.073171</td>\n",
              "      <td>0</td>\n",
              "      <td>0</td>\n",
              "      <td>0</td>\n",
              "      <td>0</td>\n",
              "      <td>1</td>\n",
              "      <td>0</td>\n",
              "    </tr>\n",
              "    <tr>\n",
              "      <th>187</th>\n",
              "      <td>0.80</td>\n",
              "      <td>0.024390</td>\n",
              "      <td>0</td>\n",
              "      <td>0</td>\n",
              "      <td>0</td>\n",
              "      <td>1</td>\n",
              "      <td>0</td>\n",
              "      <td>0</td>\n",
              "    </tr>\n",
              "    <tr>\n",
              "      <th>...</th>\n",
              "      <td>...</td>\n",
              "      <td>...</td>\n",
              "      <td>...</td>\n",
              "      <td>...</td>\n",
              "      <td>...</td>\n",
              "      <td>...</td>\n",
              "      <td>...</td>\n",
              "      <td>...</td>\n",
              "    </tr>\n",
              "    <tr>\n",
              "      <th>191</th>\n",
              "      <td>0.76</td>\n",
              "      <td>0.000000</td>\n",
              "      <td>1</td>\n",
              "      <td>0</td>\n",
              "      <td>0</td>\n",
              "      <td>0</td>\n",
              "      <td>0</td>\n",
              "      <td>0</td>\n",
              "    </tr>\n",
              "    <tr>\n",
              "      <th>228</th>\n",
              "      <td>0.64</td>\n",
              "      <td>0.707317</td>\n",
              "      <td>0</td>\n",
              "      <td>0</td>\n",
              "      <td>0</td>\n",
              "      <td>0</td>\n",
              "      <td>0</td>\n",
              "      <td>1</td>\n",
              "    </tr>\n",
              "    <tr>\n",
              "      <th>233</th>\n",
              "      <td>0.32</td>\n",
              "      <td>0.658537</td>\n",
              "      <td>1</td>\n",
              "      <td>0</td>\n",
              "      <td>0</td>\n",
              "      <td>0</td>\n",
              "      <td>0</td>\n",
              "      <td>0</td>\n",
              "    </tr>\n",
              "    <tr>\n",
              "      <th>175</th>\n",
              "      <td>0.84</td>\n",
              "      <td>0.853659</td>\n",
              "      <td>0</td>\n",
              "      <td>1</td>\n",
              "      <td>0</td>\n",
              "      <td>0</td>\n",
              "      <td>0</td>\n",
              "      <td>0</td>\n",
              "    </tr>\n",
              "    <tr>\n",
              "      <th>243</th>\n",
              "      <td>0.44</td>\n",
              "      <td>0.146341</td>\n",
              "      <td>0</td>\n",
              "      <td>0</td>\n",
              "      <td>0</td>\n",
              "      <td>1</td>\n",
              "      <td>0</td>\n",
              "      <td>0</td>\n",
              "    </tr>\n",
              "  </tbody>\n",
              "</table>\n",
              "<p>221 rows × 8 columns</p>\n",
              "</div>\n",
              "      <button class=\"colab-df-convert\" onclick=\"convertToInteractive('df-9be8ac2c-8682-4bd9-aa51-903041128b98')\"\n",
              "              title=\"Convert this dataframe to an interactive table.\"\n",
              "              style=\"display:none;\">\n",
              "        \n",
              "  <svg xmlns=\"http://www.w3.org/2000/svg\" height=\"24px\"viewBox=\"0 0 24 24\"\n",
              "       width=\"24px\">\n",
              "    <path d=\"M0 0h24v24H0V0z\" fill=\"none\"/>\n",
              "    <path d=\"M18.56 5.44l.94 2.06.94-2.06 2.06-.94-2.06-.94-.94-2.06-.94 2.06-2.06.94zm-11 1L8.5 8.5l.94-2.06 2.06-.94-2.06-.94L8.5 2.5l-.94 2.06-2.06.94zm10 10l.94 2.06.94-2.06 2.06-.94-2.06-.94-.94-2.06-.94 2.06-2.06.94z\"/><path d=\"M17.41 7.96l-1.37-1.37c-.4-.4-.92-.59-1.43-.59-.52 0-1.04.2-1.43.59L10.3 9.45l-7.72 7.72c-.78.78-.78 2.05 0 2.83L4 21.41c.39.39.9.59 1.41.59.51 0 1.02-.2 1.41-.59l7.78-7.78 2.81-2.81c.8-.78.8-2.07 0-2.86zM5.41 20L4 18.59l7.72-7.72 1.47 1.35L5.41 20z\"/>\n",
              "  </svg>\n",
              "      </button>\n",
              "      \n",
              "  <style>\n",
              "    .colab-df-container {\n",
              "      display:flex;\n",
              "      flex-wrap:wrap;\n",
              "      gap: 12px;\n",
              "    }\n",
              "\n",
              "    .colab-df-convert {\n",
              "      background-color: #E8F0FE;\n",
              "      border: none;\n",
              "      border-radius: 50%;\n",
              "      cursor: pointer;\n",
              "      display: none;\n",
              "      fill: #1967D2;\n",
              "      height: 32px;\n",
              "      padding: 0 0 0 0;\n",
              "      width: 32px;\n",
              "    }\n",
              "\n",
              "    .colab-df-convert:hover {\n",
              "      background-color: #E2EBFA;\n",
              "      box-shadow: 0px 1px 2px rgba(60, 64, 67, 0.3), 0px 1px 3px 1px rgba(60, 64, 67, 0.15);\n",
              "      fill: #174EA6;\n",
              "    }\n",
              "\n",
              "    [theme=dark] .colab-df-convert {\n",
              "      background-color: #3B4455;\n",
              "      fill: #D2E3FC;\n",
              "    }\n",
              "\n",
              "    [theme=dark] .colab-df-convert:hover {\n",
              "      background-color: #434B5C;\n",
              "      box-shadow: 0px 1px 3px 1px rgba(0, 0, 0, 0.15);\n",
              "      filter: drop-shadow(0px 1px 2px rgba(0, 0, 0, 0.3));\n",
              "      fill: #FFFFFF;\n",
              "    }\n",
              "  </style>\n",
              "\n",
              "      <script>\n",
              "        const buttonEl =\n",
              "          document.querySelector('#df-9be8ac2c-8682-4bd9-aa51-903041128b98 button.colab-df-convert');\n",
              "        buttonEl.style.display =\n",
              "          google.colab.kernel.accessAllowed ? 'block' : 'none';\n",
              "\n",
              "        async function convertToInteractive(key) {\n",
              "          const element = document.querySelector('#df-9be8ac2c-8682-4bd9-aa51-903041128b98');\n",
              "          const dataTable =\n",
              "            await google.colab.kernel.invokeFunction('convertToInteractive',\n",
              "                                                     [key], {});\n",
              "          if (!dataTable) return;\n",
              "\n",
              "          const docLinkHtml = 'Like what you see? Visit the ' +\n",
              "            '<a target=\"_blank\" href=https://colab.research.google.com/notebooks/data_table.ipynb>data table notebook</a>'\n",
              "            + ' to learn more about interactive tables.';\n",
              "          element.innerHTML = '';\n",
              "          dataTable['output_type'] = 'display_data';\n",
              "          await google.colab.output.renderOutput(dataTable, element);\n",
              "          const docLink = document.createElement('div');\n",
              "          docLink.innerHTML = docLinkHtml;\n",
              "          element.appendChild(docLink);\n",
              "        }\n",
              "      </script>\n",
              "    </div>\n",
              "  </div>\n",
              "  "
            ]
          },
          "metadata": {},
          "execution_count": 266
        }
      ],
      "source": [
        "from sklearn.preprocessing import MinMaxScaler\n",
        "scaler = MinMaxScaler()\n",
        "nv = ['Drain Time','Filled Time']\n",
        "tank_train[nv] = scaler.fit_transform(tank_train[nv])\n",
        "tank_test[nv]= scaler.fit_transform(tank_test[nv])\n",
        "\n",
        "tank_train"
      ]
    },
    {
      "cell_type": "markdown",
      "metadata": {
        "id": "lrHj51D56gTz"
      },
      "source": [
        "INPUT - OUTPUT Data Split"
      ]
    },
    {
      "cell_type": "code",
      "execution_count": 267,
      "metadata": {
        "id": "uxkpDHsWB7r6"
      },
      "outputs": [],
      "source": [
        "x_train = tank_train\n",
        "x_test = tank_test\n",
        "y_train = tank_train.pop('Drain Time')\n",
        "y_test = tank_test.pop('Drain Time')"
      ]
    },
    {
      "cell_type": "markdown",
      "metadata": {
        "id": "SEt4ZKf4Eevp"
      },
      "source": [
        "**Model Training**"
      ]
    },
    {
      "cell_type": "code",
      "execution_count": 268,
      "metadata": {
        "id": "sEpJBf7VEcbF",
        "colab": {
          "base_uri": "https://localhost:8080/"
        },
        "outputId": "107cbe5e-7bab-4ee6-96d4-b687cdbfe58b"
      },
      "outputs": [
        {
          "output_type": "execute_result",
          "data": {
            "text/plain": [
              "LinearRegression()"
            ]
          },
          "metadata": {},
          "execution_count": 268
        }
      ],
      "source": [
        "from sklearn.linear_model import LinearRegression\n",
        "regressor = LinearRegression()\n",
        "regressor.fit(x_train, y_train)"
      ]
    },
    {
      "cell_type": "code",
      "execution_count": 269,
      "metadata": {
        "id": "Z0DHPWhMFA7q",
        "colab": {
          "base_uri": "https://localhost:8080/"
        },
        "outputId": "1f60174e-cbd0-4a9d-bab7-690c1a636544"
      },
      "outputs": [
        {
          "output_type": "stream",
          "name": "stdout",
          "text": [
            "Estimated model weights, m: [ 0.62524158 -0.03439071  0.00214514 -0.04980479 -0.02486836  0.0609134\n",
            "  0.01899781]\n",
            "Estimated model intercept, c: (0.15329963019637866,)\n"
          ]
        }
      ],
      "source": [
        "m = regressor.coef_\n",
        "c = regressor.intercept_,\n",
        "print(\"Estimated model weights, m:\" , m)\n",
        "print(\"Estimated model intercept, c:\" , c)"
      ]
    },
    {
      "cell_type": "markdown",
      "metadata": {
        "id": "IGj6rArKFIOi"
      },
      "source": [
        "Prediction on Training & Testing Data"
      ]
    },
    {
      "cell_type": "code",
      "execution_count": 270,
      "metadata": {
        "id": "yXtd9jbOFMvX"
      },
      "outputs": [],
      "source": [
        "y_pred_test =  regressor.predict(x_test)\n",
        "y_pred_train =  regressor.predict(x_train)"
      ]
    },
    {
      "cell_type": "markdown",
      "metadata": {
        "id": "NVsJXXQoFT8h"
      },
      "source": [
        "Error Metric Computation"
      ]
    },
    {
      "cell_type": "code",
      "execution_count": 271,
      "metadata": {
        "id": "fAaAslUSFXHu",
        "colab": {
          "base_uri": "https://localhost:8080/"
        },
        "outputId": "94ae558d-9b2a-48ae-9522-8ed02ab6fd7a"
      },
      "outputs": [
        {
          "output_type": "stream",
          "name": "stdout",
          "text": [
            "Root mean square error : 0.2528456294331319\n",
            "Mean square error      : 0.06393091232343666\n",
            "Mean absolute error    : 0.2078662608424524\n"
          ]
        }
      ],
      "source": [
        "import math\n",
        "from sklearn.metrics import mean_squared_error \n",
        "from sklearn.metrics import mean_absolute_error\n",
        "\n",
        "\n",
        "#Training Accuracies\n",
        "rmse = math.sqrt(mean_squared_error(y_train, y_pred_train)) \n",
        "print('Root mean square error :', rmse) \n",
        "mse = (mean_squared_error(y_train, y_pred_train)) \n",
        "print('Mean square error      :', mse) \n",
        "mae=mean_absolute_error(y_train, y_pred_train)\n",
        "print('Mean absolute error    :', mae)"
      ]
    },
    {
      "cell_type": "code",
      "execution_count": 272,
      "metadata": {
        "id": "Isd2PkKyFkX6",
        "colab": {
          "base_uri": "https://localhost:8080/"
        },
        "outputId": "c120ec0d-6efd-4778-8254-fa510846e44b"
      },
      "outputs": [
        {
          "output_type": "stream",
          "name": "stdout",
          "text": [
            "Root mean square error : 0.24187018649233114\n",
            "Mean square error      : 0.05850118711383504\n",
            "Mean absolute error    : 0.20665339282979112\n"
          ]
        }
      ],
      "source": [
        "#Testing Accuracies\n",
        "rmse = math.sqrt(mean_squared_error(y_test, y_pred_test)) \n",
        "print('Root mean square error :', rmse) \n",
        "mse = (mean_squared_error(y_test, y_pred_test)) \n",
        "print('Mean square error      :', mse) \n",
        "mae=mean_absolute_error(y_test, y_pred_test)\n",
        "print('Mean absolute error    :', mae)\n",
        "     "
      ]
    },
    {
      "cell_type": "markdown",
      "metadata": {
        "id": "rGjO2gwWHkf2"
      },
      "source": [
        "SAVE Model"
      ]
    },
    {
      "cell_type": "code",
      "execution_count": 273,
      "metadata": {
        "id": "xn8HIRULHmGe"
      },
      "outputs": [],
      "source": [
        "import pickle\n",
        "# Save the model\n",
        "filename = 'model.pkl'\n",
        "pickle.dump(regressor, open(filename, 'wb'))"
      ]
    },
    {
      "cell_type": "markdown",
      "metadata": {
        "id": "Rei9gYNDHwR4"
      },
      "source": [
        "Deployment"
      ]
    },
    {
      "cell_type": "code",
      "execution_count": 274,
      "metadata": {
        "id": "0SY5oDc-Hxqh",
        "colab": {
          "base_uri": "https://localhost:8080/"
        },
        "outputId": "40999b7a-50fb-461a-a000-a4d8e1fcbb05"
      },
      "outputs": [
        {
          "name": "stdout",
          "output_type": "stream",
          "text": [
            "Day:#$%\n",
            "Invalid Day!!\n",
            "Day:Sunday\n",
            "Enter Time: 235\n",
            "Invalid Time!!\n",
            "Enter Time: 23\n"
          ]
        }
      ],
      "source": [
        "list_of_columns = tank.columns\n",
        "input_data = pandas.DataFrame(columns=list_of_columns)\n",
        "input_data.drop(['Drain Time'],axis='columns',inplace=True)\n",
        "loop=m=t=w=th=f=s=su=0\n",
        "\n",
        "while loop==0:\n",
        "  day = str(input('Day:'))\n",
        "  if day == 'Monday':\n",
        "    m=1\n",
        "    break\n",
        "  elif day == 'Tuesday':\n",
        "    t=1\n",
        "    break\n",
        "  elif day == 'Wednesday':\n",
        "    w=1\n",
        "    break\n",
        "  elif day == 'Thursday':\n",
        "    th=1\n",
        "    break\n",
        "  elif day == 'Saturday':\n",
        "    s=1\n",
        "    break\n",
        "  elif day == 'Sunday':\n",
        "    su=1\n",
        "    break\n",
        "  elif day == 'Friday':\n",
        "    break\n",
        "  else:\n",
        "    print('Invalid Day!!')\n",
        "\n",
        "input_data.at[0,'Monday'] = m\n",
        "input_data.at[0,'Tuesday'] = t\n",
        "input_data.at[0,'Wednesday'] = w\n",
        "input_data.at[0,'Thursday'] = th\n",
        "input_data.at[0,'Saturday'] = s\n",
        "input_data.at[0,'Sunday'] = su\n",
        "\n",
        "input_data.at[0,'Filled Time'] = time = int(input('Enter Time: '))\n",
        "while time>23 or time<0:\n",
        "  print('Invalid Time!!')\n",
        "  input_data.at[0,'Filled Time'] = time = int(input('Enter Time: '))\n",
        "\n",
        "input_data['Filled Time']=(input_data['Filled Time']-tank['Filled Time'].min())/(tank['Filled Time'].max()-tank['Filled Time'].min())\n",
        "input_data['Monday']=(input_data['Monday']-tank['Monday'].min())/(tank['Monday'].max()-tank['Monday'].min())\n",
        "input_data['Tuesday']=(input_data['Tuesday']-tank['Tuesday'].min())/(tank['Tuesday'].max()-tank['Tuesday'].min())\n",
        "input_data['Wednesday']=(input_data['Wednesday']-tank['Wednesday'].min())/(tank['Wednesday'].max()-tank['Wednesday'].min())\n",
        "input_data['Thursday']=(input_data['Thursday']-tank['Thursday'].min())/(tank['Thursday'].max()-tank['Thursday'].min())\n",
        "input_data['Saturday']=(input_data['Saturday']-tank['Saturday'].min())/(tank['Saturday'].max()-tank['Saturday'].min())\n",
        "input_data['Sunday']=(input_data['Sunday']-tank['Sunday'].min())/(tank['Sunday'].max()-tank['Sunday'].min())"
      ]
    },
    {
      "cell_type": "markdown",
      "metadata": {
        "id": "Tjk5Pv4VlChh"
      },
      "source": [
        "Defining Basic Codes"
      ]
    },
    {
      "cell_type": "code",
      "execution_count": 275,
      "metadata": {
        "id": "-dn3_XdvlA5E"
      },
      "outputs": [],
      "source": [
        "def ampm(x):\n",
        "  if x<12 :\n",
        "    return 'AM'\n",
        "  else:\n",
        "    return 'PM'\n",
        "\n",
        "def t12(x):\n",
        "  if x>12:\n",
        "    return x-12\n",
        "  else:\n",
        "    return x\n",
        "\n",
        "def frint(x):\n",
        "  if x>47:\n",
        "    x = x-48\n",
        "    print('Water Tank will be Drained by', t12(x),ampm(x),'Day After Tommorow.')\n",
        "  elif x>23:\n",
        "    x = x-24\n",
        "    print('Water Tank Will Be Emptied by', t12(x),ampm(x), 'Tommorow.') \n",
        "  else:\n",
        "    print('Water Tank Will Be Emptied by',t12(x),ampm(x),'Today.')"
      ]
    },
    {
      "cell_type": "markdown",
      "metadata": {
        "id": "bSKQVtzZlzpt"
      },
      "source": [
        "# ***Final Outputs***"
      ]
    },
    {
      "cell_type": "code",
      "execution_count": 276,
      "metadata": {
        "id": "16ULd4SblwNQ",
        "colab": {
          "base_uri": "https://localhost:8080/"
        },
        "outputId": "4ad80432-8ff1-4284-c14f-b54368301814"
      },
      "outputs": [
        {
          "output_type": "stream",
          "name": "stdout",
          "text": [
            "Predicted Drain Time = 28 hrs\n",
            "Water Tank will be Drained by 3 AM Day After Tommorow.\n"
          ]
        }
      ],
      "source": [
        "y_pred =  regressor.predict(input_data)\n",
        "Dt = y_pred*(tank['Drain Time'].max()-tank['Drain Time'].min())+tank['Drain Time'].min()\n",
        "print('Predicted Drain Time =',int(Dt),'hrs')\n",
        "et = time+int(Dt)\n",
        "frint(et)"
      ]
    }
  ],
  "metadata": {
    "colab": {
      "provenance": [],
      "authorship_tag": "ABX9TyOLLib3B/KEhBKVPp709LhQ",
      "include_colab_link": true
    },
    "kernelspec": {
      "display_name": "Python 3",
      "name": "python3"
    },
    "language_info": {
      "name": "python"
    }
  },
  "nbformat": 4,
  "nbformat_minor": 0
}